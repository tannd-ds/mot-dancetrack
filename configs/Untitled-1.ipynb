{
 "cells": [
  {
   "cell_type": "code",
   "execution_count": 1,
   "metadata": {},
   "outputs": [
    {
     "name": "stdout",
     "output_type": "stream",
     "text": [
      "Config: {'interval': 5, 'augment_data': True, 'batch_size': 2048, 'lr': 0.00025, 'epochs': 200, 'eval_every': 2, 'config': 'configs/default.yml', 'data_dir': 'dataset/trackers_gt_t/', 'model_dir': 'huy_cnn_classifier1', 'network': 'huy_cnn', 'num_classifiers': 1, 'resume': False}\n",
      "Number of Model's parameters:  294152\n"
     ]
    },
    {
     "ename": "IndexError",
     "evalue": "index 5 is out of bounds for axis 0 with size 3",
     "output_type": "error",
     "traceback": [
      "\u001b[1;31m---------------------------------------------------------------------------\u001b[0m",
      "\u001b[1;31mIndexError\u001b[0m                                Traceback (most recent call last)",
      "Cell \u001b[1;32mIn[1], line 25\u001b[0m\n\u001b[0;32m     21\u001b[0m         config[k] \u001b[38;5;241m=\u001b[39m v\n\u001b[0;32m     23\u001b[0m \u001b[38;5;28mprint\u001b[39m(\u001b[38;5;124m'\u001b[39m\u001b[38;5;124mConfig:\u001b[39m\u001b[38;5;124m'\u001b[39m, config)\n\u001b[1;32m---> 25\u001b[0m tracker \u001b[38;5;241m=\u001b[39m \u001b[43mTracker\u001b[49m\u001b[43m(\u001b[49m\u001b[43mconfig\u001b[49m\u001b[43m)\u001b[49m\n",
      "File \u001b[1;32md:\\mot-dancetrack\\train.py:24\u001b[0m, in \u001b[0;36mTracker.__init__\u001b[1;34m(self, config)\u001b[0m\n\u001b[0;32m     22\u001b[0m \u001b[38;5;28mself\u001b[39m\u001b[38;5;241m.\u001b[39m_init_model()\n\u001b[0;32m     23\u001b[0m \u001b[38;5;28mself\u001b[39m\u001b[38;5;241m.\u001b[39m_init_model_dir()\n\u001b[1;32m---> 24\u001b[0m \u001b[38;5;28;43mself\u001b[39;49m\u001b[38;5;241;43m.\u001b[39;49m\u001b[43m_init_data_loader\u001b[49m\u001b[43m(\u001b[49m\u001b[43m)\u001b[49m\n\u001b[0;32m     25\u001b[0m \u001b[38;5;28mself\u001b[39m\u001b[38;5;241m.\u001b[39m_init_optimizer()\n\u001b[0;32m     26\u001b[0m \u001b[38;5;28mself\u001b[39m\u001b[38;5;241m.\u001b[39m_init_tensorboard()\n",
      "File \u001b[1;32md:\\mot-dancetrack\\train.py:230\u001b[0m, in \u001b[0;36mTracker._init_data_loader\u001b[1;34m(self)\u001b[0m\n\u001b[0;32m    228\u001b[0m train_path \u001b[38;5;241m=\u001b[39m os\u001b[38;5;241m.\u001b[39mpath\u001b[38;5;241m.\u001b[39mnormpath(os\u001b[38;5;241m.\u001b[39mpath\u001b[38;5;241m.\u001b[39mjoin(\u001b[38;5;28mself\u001b[39m\u001b[38;5;241m.\u001b[39mconfig[\u001b[38;5;124m'\u001b[39m\u001b[38;5;124mdata_dir\u001b[39m\u001b[38;5;124m'\u001b[39m], \u001b[38;5;124m'\u001b[39m\u001b[38;5;124mtrain\u001b[39m\u001b[38;5;124m'\u001b[39m))\n\u001b[0;32m    229\u001b[0m val_path \u001b[38;5;241m=\u001b[39m os\u001b[38;5;241m.\u001b[39mpath\u001b[38;5;241m.\u001b[39mnormpath(os\u001b[38;5;241m.\u001b[39mpath\u001b[38;5;241m.\u001b[39mjoin(\u001b[38;5;28mself\u001b[39m\u001b[38;5;241m.\u001b[39mconfig[\u001b[38;5;124m'\u001b[39m\u001b[38;5;124mdata_dir\u001b[39m\u001b[38;5;124m'\u001b[39m], \u001b[38;5;124m'\u001b[39m\u001b[38;5;124mval\u001b[39m\u001b[38;5;124m'\u001b[39m))\n\u001b[1;32m--> 230\u001b[0m train_dataset \u001b[38;5;241m=\u001b[39m \u001b[43mTrackingDataset\u001b[49m\u001b[43m(\u001b[49m\u001b[43mtrain_path\u001b[49m\u001b[43m,\u001b[49m\u001b[43m \u001b[49m\u001b[43mconfig\u001b[49m\u001b[38;5;241;43m=\u001b[39;49m\u001b[38;5;28;43mself\u001b[39;49m\u001b[38;5;241;43m.\u001b[39;49m\u001b[43mconfig\u001b[49m\u001b[43m)\u001b[49m\n\u001b[0;32m    231\u001b[0m val_dataset \u001b[38;5;241m=\u001b[39m TrackingDataset(val_path, config\u001b[38;5;241m=\u001b[39m\u001b[38;5;28mself\u001b[39m\u001b[38;5;241m.\u001b[39mconfig)\n\u001b[0;32m    232\u001b[0m \u001b[38;5;28mprint\u001b[39m(\u001b[38;5;124mf\u001b[39m\u001b[38;5;124m\"\u001b[39m\u001b[38;5;124mNumber of samples in the Train dataset: \u001b[39m\u001b[38;5;132;01m{\u001b[39;00m\u001b[38;5;28mlen\u001b[39m(train_dataset)\u001b[38;5;132;01m}\u001b[39;00m\u001b[38;5;124m\"\u001b[39m)\n",
      "File \u001b[1;32md:\\mot-dancetrack\\dataset\\dataset.py:40\u001b[0m, in \u001b[0;36mTrackingDataset.__init__\u001b[1;34m(self, path, config)\u001b[0m\n\u001b[0;32m     38\u001b[0m     \u001b[38;5;28;01mfor\u001b[39;00m pa \u001b[38;5;129;01min\u001b[39;00m \u001b[38;5;28mself\u001b[39m\u001b[38;5;241m.\u001b[39mtrackers[seq]:\n\u001b[0;32m     39\u001b[0m         gt \u001b[38;5;241m=\u001b[39m np\u001b[38;5;241m.\u001b[39mloadtxt(pa, dtype\u001b[38;5;241m=\u001b[39mnp\u001b[38;5;241m.\u001b[39mfloat32)\n\u001b[1;32m---> 40\u001b[0m         \u001b[38;5;28;43mself\u001b[39;49m\u001b[38;5;241;43m.\u001b[39;49m\u001b[43mprecompute_data\u001b[49m\u001b[43m(\u001b[49m\u001b[43mseq\u001b[49m\u001b[43m,\u001b[49m\u001b[43m \u001b[49m\u001b[43mgt\u001b[49m\u001b[43m)\u001b[49m  \u001b[38;5;66;03m# Precompute data for this sequence\u001b[39;00m\n\u001b[0;32m     42\u001b[0m \u001b[38;5;28mprint\u001b[39m(\u001b[38;5;124mf\u001b[39m\u001b[38;5;124m\"\u001b[39m\u001b[38;5;124mLoaded \u001b[39m\u001b[38;5;132;01m{\u001b[39;00m\u001b[38;5;28mlen\u001b[39m(\u001b[38;5;28mself\u001b[39m\u001b[38;5;241m.\u001b[39mdata)\u001b[38;5;132;01m}\u001b[39;00m\u001b[38;5;124m items in \u001b[39m\u001b[38;5;132;01m{\u001b[39;00mtime\u001b[38;5;241m.\u001b[39mtime()\u001b[38;5;250m \u001b[39m\u001b[38;5;241m-\u001b[39m\u001b[38;5;250m \u001b[39mtic\u001b[38;5;132;01m:\u001b[39;00m\u001b[38;5;124m.2f\u001b[39m\u001b[38;5;132;01m}\u001b[39;00m\u001b[38;5;124ms\u001b[39m\u001b[38;5;124m\"\u001b[39m)\n",
      "File \u001b[1;32md:\\mot-dancetrack\\dataset\\dataset.py:67\u001b[0m, in \u001b[0;36mTrackingDataset.precompute_data\u001b[1;34m(self, seq, track_gt)\u001b[0m\n\u001b[0;32m     60\u001b[0m \u001b[38;5;28;01mfor\u001b[39;00m init_index \u001b[38;5;129;01min\u001b[39;00m \u001b[38;5;28mrange\u001b[39m(\u001b[38;5;28mlen\u001b[39m(track_gt) \u001b[38;5;241m-\u001b[39m \u001b[38;5;28mself\u001b[39m\u001b[38;5;241m.\u001b[39minterval \u001b[38;5;241m-\u001b[39m \u001b[38;5;241m1\u001b[39m):\n\u001b[0;32m     61\u001b[0m     curr_idx \u001b[38;5;241m=\u001b[39m init_index \u001b[38;5;241m+\u001b[39m \u001b[38;5;28mself\u001b[39m\u001b[38;5;241m.\u001b[39minterval\n\u001b[0;32m     63\u001b[0m     data_item \u001b[38;5;241m=\u001b[39m {\n\u001b[0;32m     64\u001b[0m         \u001b[38;5;124m\"\u001b[39m\u001b[38;5;124mcur_gt\u001b[39m\u001b[38;5;124m\"\u001b[39m: track_gt[curr_idx],  \u001b[38;5;66;03m# ndarray (9, )\u001b[39;00m\n\u001b[0;32m     65\u001b[0m         \u001b[38;5;124m\"\u001b[39m\u001b[38;5;124mcur_bbox\u001b[39m\u001b[38;5;124m\"\u001b[39m: track_gt[curr_idx, \u001b[38;5;241m2\u001b[39m:\u001b[38;5;241m6\u001b[39m],  \u001b[38;5;66;03m# ndarray (4, )\u001b[39;00m\n\u001b[0;32m     66\u001b[0m         \u001b[38;5;124m\"\u001b[39m\u001b[38;5;124mcondition\u001b[39m\u001b[38;5;124m\"\u001b[39m: conds[init_index:curr_idx],  \u001b[38;5;66;03m# ndarray (4, 8)\u001b[39;00m\n\u001b[1;32m---> 67\u001b[0m         \u001b[38;5;124m\"\u001b[39m\u001b[38;5;124mdelta_bbox\u001b[39m\u001b[38;5;124m\"\u001b[39m: \u001b[43mdeltas\u001b[49m\u001b[43m[\u001b[49m\u001b[43mcurr_idx\u001b[49m\u001b[43m,\u001b[49m\u001b[43m \u001b[49m\u001b[43m:\u001b[49m\u001b[43m]\u001b[49m,  \u001b[38;5;66;03m# ndarray (4, )\u001b[39;00m\n\u001b[0;32m     68\u001b[0m         \u001b[38;5;124m\"\u001b[39m\u001b[38;5;124mwidth\u001b[39m\u001b[38;5;124m\"\u001b[39m: track_gt[curr_idx, \u001b[38;5;241m7\u001b[39m],  \u001b[38;5;66;03m# float\u001b[39;00m\n\u001b[0;32m     69\u001b[0m         \u001b[38;5;124m\"\u001b[39m\u001b[38;5;124mheight\u001b[39m\u001b[38;5;124m\"\u001b[39m: track_gt[curr_idx, \u001b[38;5;241m8\u001b[39m],  \u001b[38;5;66;03m# float\u001b[39;00m\n\u001b[0;32m     70\u001b[0m     }\n\u001b[0;32m     72\u001b[0m     \u001b[38;5;28mself\u001b[39m\u001b[38;5;241m.\u001b[39mdata\u001b[38;5;241m.\u001b[39mappend(data_item)\n",
      "\u001b[1;31mIndexError\u001b[0m: index 5 is out of bounds for axis 0 with size 3"
     ]
    }
   ],
   "source": [
    "from train import Tracker\n",
    "import yaml\n",
    "from easydict import EasyDict\n",
    "\n",
    "class Args:\n",
    "    def __init__(self):\n",
    "        self.config = 'configs/default.yml'\n",
    "        self.dataset = None\n",
    "        self.data_dir = 'dataset/trackers_gt_t/'\n",
    "        self.model_dir = 'huy_cnn_classifier1'\n",
    "        self.network = 'huy_cnn'\n",
    "        self.num_classifiers = 1\n",
    "        self.resume = False\n",
    "\n",
    "args = Args()\n",
    "with open(args.config) as f:\n",
    "    config = EasyDict(yaml.safe_load(f))\n",
    "\n",
    "for k, v in vars(args).items():\n",
    "    if v is not None:\n",
    "        config[k] = v\n",
    "\n",
    "print('Config:', config)\n",
    "\n",
    "tracker = Tracker(config)"
   ]
  }
 ],
 "metadata": {
  "kernelspec": {
   "display_name": "main_env",
   "language": "python",
   "name": "python3"
  },
  "language_info": {
   "codemirror_mode": {
    "name": "ipython",
    "version": 3
   },
   "file_extension": ".py",
   "mimetype": "text/x-python",
   "name": "python",
   "nbconvert_exporter": "python",
   "pygments_lexer": "ipython3",
   "version": "3.11.9"
  }
 },
 "nbformat": 4,
 "nbformat_minor": 2
}
